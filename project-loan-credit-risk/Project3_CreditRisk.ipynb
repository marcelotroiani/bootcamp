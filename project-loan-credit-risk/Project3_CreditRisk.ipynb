{
 "cells": [
  {
   "cell_type": "markdown",
   "metadata": {},
   "source": [
    "# Importing Dependencies"
   ]
  },
  {
   "cell_type": "code",
   "execution_count": 1,
   "metadata": {},
   "outputs": [],
   "source": [
    "%matplotlib inline\n",
    "import pandas as pd\n",
    "import numpy as np\n",
    "import matplotlib.pyplot as plt\n",
    "import os\n",
    "from sklearn import tree\n",
    "from sklearn.metrics import confusion_matrix, classification_report, auc\n",
    "from sklearn.metrics import roc_auc_score\n",
    "from sklearn.metrics import roc_curve\n",
    "from sklearn.model_selection import GridSearchCV\n",
    "import matplotlib.pyplot as plt \n",
    "import random\n",
    "import seaborn as sns\n",
    "import pickle"
   ]
  },
  {
   "cell_type": "markdown",
   "metadata": {},
   "source": [
    "# Data Load and Exploration"
   ]
  },
  {
   "cell_type": "code",
   "execution_count": 2,
   "metadata": {},
   "outputs": [
    {
     "data": {
      "text/html": [
       "<div>\n",
       "<style scoped>\n",
       "    .dataframe tbody tr th:only-of-type {\n",
       "        vertical-align: middle;\n",
       "    }\n",
       "\n",
       "    .dataframe tbody tr th {\n",
       "        vertical-align: top;\n",
       "    }\n",
       "\n",
       "    .dataframe thead th {\n",
       "        text-align: right;\n",
       "    }\n",
       "</style>\n",
       "<table border=\"1\" class=\"dataframe\">\n",
       "  <thead>\n",
       "    <tr style=\"text-align: right;\">\n",
       "      <th></th>\n",
       "      <th>loanId</th>\n",
       "      <th>memberId</th>\n",
       "      <th>date</th>\n",
       "      <th>purpose</th>\n",
       "      <th>isJointApplication</th>\n",
       "      <th>loanAmount</th>\n",
       "      <th>term</th>\n",
       "      <th>interestRate</th>\n",
       "      <th>monthlyPayment</th>\n",
       "      <th>grade</th>\n",
       "      <th>...</th>\n",
       "      <th>lengthCreditHistory_bins</th>\n",
       "      <th>numTotalCreditLines_bins</th>\n",
       "      <th>numOpenCreditLines_bins</th>\n",
       "      <th>numOpenCreditLines1Year_bins</th>\n",
       "      <th>revolvingBalance_bins</th>\n",
       "      <th>revolvingUtilizationRate_bins</th>\n",
       "      <th>numDerogatoryRec_bins</th>\n",
       "      <th>numDelinquency2Years_bins</th>\n",
       "      <th>numChargeoff1year_bins</th>\n",
       "      <th>numInquiries6Mon_bins</th>\n",
       "    </tr>\n",
       "  </thead>\n",
       "  <tbody>\n",
       "    <tr>\n",
       "      <th>0</th>\n",
       "      <td>1888978</td>\n",
       "      <td>2305095</td>\n",
       "      <td>12/10/2014</td>\n",
       "      <td>debtconsolidation</td>\n",
       "      <td>0.0</td>\n",
       "      <td>25190.0</td>\n",
       "      <td>60 months</td>\n",
       "      <td>6.25</td>\n",
       "      <td>490</td>\n",
       "      <td>E3</td>\n",
       "      <td>...</td>\n",
       "      <td>0 to 8</td>\n",
       "      <td>&gt; 2</td>\n",
       "      <td>&gt; 5</td>\n",
       "      <td>6</td>\n",
       "      <td>13799 to 14345</td>\n",
       "      <td>0 to 49.88</td>\n",
       "      <td>0</td>\n",
       "      <td>&gt; 0</td>\n",
       "      <td>&gt; 0</td>\n",
       "      <td>0</td>\n",
       "    </tr>\n",
       "    <tr>\n",
       "      <th>1</th>\n",
       "      <td>1299695</td>\n",
       "      <td>2610493</td>\n",
       "      <td>9/15/2014</td>\n",
       "      <td>debtconsolidation</td>\n",
       "      <td>0.0</td>\n",
       "      <td>21189.0</td>\n",
       "      <td>60 months</td>\n",
       "      <td>10.49</td>\n",
       "      <td>455</td>\n",
       "      <td>B3</td>\n",
       "      <td>...</td>\n",
       "      <td>&gt; 8</td>\n",
       "      <td>&gt; 2</td>\n",
       "      <td>&gt; 5</td>\n",
       "      <td>4</td>\n",
       "      <td>17374 to 18877</td>\n",
       "      <td>60.01 to 74.25</td>\n",
       "      <td>1</td>\n",
       "      <td>0</td>\n",
       "      <td>0</td>\n",
       "      <td>0</td>\n",
       "    </tr>\n",
       "    <tr>\n",
       "      <th>2</th>\n",
       "      <td>1875016</td>\n",
       "      <td>2491679</td>\n",
       "      <td>9/11/2014</td>\n",
       "      <td>debtconsolidation</td>\n",
       "      <td>0.0</td>\n",
       "      <td>29908.0</td>\n",
       "      <td>60 months</td>\n",
       "      <td>9.11</td>\n",
       "      <td>622</td>\n",
       "      <td>B2</td>\n",
       "      <td>...</td>\n",
       "      <td>0 to 8</td>\n",
       "      <td>&gt; 2</td>\n",
       "      <td>3 to 5</td>\n",
       "      <td>5</td>\n",
       "      <td>0 to 11912</td>\n",
       "      <td>60.01 to 74.25</td>\n",
       "      <td>0</td>\n",
       "      <td>&gt; 0</td>\n",
       "      <td>&gt; 0</td>\n",
       "      <td>0</td>\n",
       "    </tr>\n",
       "    <tr>\n",
       "      <th>3</th>\n",
       "      <td>1440478</td>\n",
       "      <td>2092798</td>\n",
       "      <td>4/22/2016</td>\n",
       "      <td>homeimprovement</td>\n",
       "      <td>0.0</td>\n",
       "      <td>13053.0</td>\n",
       "      <td>48 months</td>\n",
       "      <td>11.89</td>\n",
       "      <td>343</td>\n",
       "      <td>B3</td>\n",
       "      <td>...</td>\n",
       "      <td>&gt; 8</td>\n",
       "      <td>&gt; 2</td>\n",
       "      <td>&gt; 5</td>\n",
       "      <td>0 to 3</td>\n",
       "      <td>14785 to 15360</td>\n",
       "      <td>60.01 to 74.25</td>\n",
       "      <td>1</td>\n",
       "      <td>0</td>\n",
       "      <td>0</td>\n",
       "      <td>&gt; 0</td>\n",
       "    </tr>\n",
       "    <tr>\n",
       "      <th>4</th>\n",
       "      <td>1124634</td>\n",
       "      <td>2633077</td>\n",
       "      <td>2/3/2016</td>\n",
       "      <td>debtconsolidation</td>\n",
       "      <td>0.0</td>\n",
       "      <td>24613.0</td>\n",
       "      <td>60 months</td>\n",
       "      <td>15.13</td>\n",
       "      <td>587</td>\n",
       "      <td>A3</td>\n",
       "      <td>...</td>\n",
       "      <td>0 to 8</td>\n",
       "      <td>&gt; 2</td>\n",
       "      <td>&gt; 5</td>\n",
       "      <td>&gt; 9</td>\n",
       "      <td>&gt; 18877</td>\n",
       "      <td>49.88 to 60.01</td>\n",
       "      <td>&gt; 1</td>\n",
       "      <td>&gt; 0</td>\n",
       "      <td>&gt; 0</td>\n",
       "      <td>&gt; 0</td>\n",
       "    </tr>\n",
       "  </tbody>\n",
       "</table>\n",
       "<p>5 rows × 43 columns</p>\n",
       "</div>"
      ],
      "text/plain": [
       "    loanId  memberId        date            purpose  isJointApplication  \\\n",
       "0  1888978   2305095  12/10/2014  debtconsolidation                 0.0   \n",
       "1  1299695   2610493   9/15/2014  debtconsolidation                 0.0   \n",
       "2  1875016   2491679   9/11/2014  debtconsolidation                 0.0   \n",
       "3  1440478   2092798   4/22/2016    homeimprovement                 0.0   \n",
       "4  1124634   2633077    2/3/2016  debtconsolidation                 0.0   \n",
       "\n",
       "   loanAmount       term  interestRate  monthlyPayment grade  \\\n",
       "0     25190.0  60 months          6.25             490    E3   \n",
       "1     21189.0  60 months         10.49             455    B3   \n",
       "2     29908.0  60 months          9.11             622    B2   \n",
       "3     13053.0  48 months         11.89             343    B3   \n",
       "4     24613.0  60 months         15.13             587    A3   \n",
       "\n",
       "           ...           lengthCreditHistory_bins numTotalCreditLines_bins  \\\n",
       "0          ...                             0 to 8                      > 2   \n",
       "1          ...                                > 8                      > 2   \n",
       "2          ...                             0 to 8                      > 2   \n",
       "3          ...                                > 8                      > 2   \n",
       "4          ...                             0 to 8                      > 2   \n",
       "\n",
       "  numOpenCreditLines_bins numOpenCreditLines1Year_bins  revolvingBalance_bins  \\\n",
       "0                     > 5                            6         13799 to 14345   \n",
       "1                     > 5                            4         17374 to 18877   \n",
       "2                  3 to 5                            5             0 to 11912   \n",
       "3                     > 5                       0 to 3         14785 to 15360   \n",
       "4                     > 5                          > 9                > 18877   \n",
       "\n",
       "   revolvingUtilizationRate_bins  numDerogatoryRec_bins  \\\n",
       "0                     0 to 49.88                      0   \n",
       "1                 60.01 to 74.25                      1   \n",
       "2                 60.01 to 74.25                      0   \n",
       "3                 60.01 to 74.25                      1   \n",
       "4                 49.88 to 60.01                    > 1   \n",
       "\n",
       "   numDelinquency2Years_bins  numChargeoff1year_bins  numInquiries6Mon_bins  \n",
       "0                        > 0                     > 0                      0  \n",
       "1                          0                       0                      0  \n",
       "2                        > 0                     > 0                      0  \n",
       "3                          0                       0                    > 0  \n",
       "4                        > 0                     > 0                    > 0  \n",
       "\n",
       "[5 rows x 43 columns]"
      ]
     },
     "execution_count": 2,
     "metadata": {},
     "output_type": "execute_result"
    }
   ],
   "source": [
    "model_df = pd.read_csv(os.path.join(\"data\", \"Modeling_data.csv\"))\n",
    "model_df.head()"
   ]
  },
  {
   "cell_type": "code",
   "execution_count": 3,
   "metadata": {},
   "outputs": [
    {
     "name": "stdout",
     "output_type": "stream",
     "text": [
      "loanId                             int64\n",
      "memberId                           int64\n",
      "date                              object\n",
      "purpose                           object\n",
      "isJointApplication               float64\n",
      "loanAmount                       float64\n",
      "term                              object\n",
      "interestRate                     float64\n",
      "monthlyPayment                     int64\n",
      "grade                             object\n",
      "loanStatus                        object\n",
      "residentialState                  object\n",
      "yearsEmployment                   object\n",
      "homeOwnership                     object\n",
      "annualIncome                       int64\n",
      "incomeVerified                     int64\n",
      "dtiRatio                         float64\n",
      "lengthCreditHistory                int64\n",
      "numTotalCreditLines                int64\n",
      "numOpenCreditLines               float64\n",
      "numOpenCreditLines1Year            int64\n",
      "revolvingBalance                   int64\n",
      "revolvingUtilizationRate         float64\n",
      "numDerogatoryRec                   int64\n",
      "numDelinquency2Years               int64\n",
      "numChargeoff1year                  int64\n",
      "numInquiries6Mon                   int64\n",
      "default                            int64\n",
      "loanAmount_bins                   object\n",
      "interestRate_bins                 object\n",
      "monthlyPayment_bins               object\n",
      "annualIncome_bins                 object\n",
      "dtiRatio_bins                     object\n",
      "lengthCreditHistory_bins          object\n",
      "numTotalCreditLines_bins          object\n",
      "numOpenCreditLines_bins           object\n",
      "numOpenCreditLines1Year_bins      object\n",
      "revolvingBalance_bins             object\n",
      "revolvingUtilizationRate_bins     object\n",
      "numDerogatoryRec_bins             object\n",
      "numDelinquency2Years_bins         object\n",
      "numChargeoff1year_bins            object\n",
      "numInquiries6Mon_bins             object\n",
      "dtype: object\n"
     ]
    }
   ],
   "source": [
    "print(model_df.dtypes)"
   ]
  },
  {
   "cell_type": "markdown",
   "metadata": {},
   "source": [
    "# Feature Selection"
   ]
  },
  {
   "cell_type": "code",
   "execution_count": 4,
   "metadata": {},
   "outputs": [],
   "source": [
    "cat_vars=['purpose', 'term', 'yearsEmployment', 'homeOwnership']\n",
    "\n",
    "for var in cat_vars:\n",
    "    cat_list = 'var' + '_' + var\n",
    "    cat_list = pd.get_dummies(model_df[var], prefix=var)\n",
    "    aux = model_df.join(cat_list)\n",
    "    model_df = aux\n",
    "    \n",
    "model_df_vars = model_df.columns.values.tolist()\n",
    "to_keep = [i for i in model_df_vars if (i not in cat_vars and \"bins\" not in i)]\n",
    "model_df_final = model_df[to_keep]"
   ]
  },
  {
   "cell_type": "code",
   "execution_count": 5,
   "metadata": {},
   "outputs": [],
   "source": [
    "target = model_df_final[\"default\"]\n",
    "target_names = [\"current\", \"default\"]\n",
    "data = model_df_final.drop([\"loanStatus\",\"default\",\"loanId\",\"memberId\",\"date\",\"residentialState\",\"grade\",\n",
    "                           \"interestRate\",'monthlyPayment',], axis=1)\n",
    "feature_names = data.columns"
   ]
  },
  {
   "cell_type": "code",
   "execution_count": 6,
   "metadata": {},
   "outputs": [
    {
     "data": {
      "text/plain": [
       "1.0"
      ]
     },
     "execution_count": 6,
     "metadata": {},
     "output_type": "execute_result"
    }
   ],
   "source": [
    "clf = tree.DecisionTreeClassifier(random_state=42)\n",
    "clf = clf.fit(data, target)\n",
    "clf.score(data, target)"
   ]
  },
  {
   "cell_type": "code",
   "execution_count": 7,
   "metadata": {},
   "outputs": [
    {
     "data": {
      "image/png": "[encoded data removed]",
      "text/plain": [
       "<Figure size 720x576 with 1 Axes>"
      ]
     },
     "metadata": {},
     "output_type": "display_data"
    }
   ],
   "source": [
    "feature_importance = clf.feature_importances_\n",
    "feature_importance = 100.0 * (feature_importance / feature_importance.max())\n",
    "sorted_features = np.argsort(feature_importance)\n",
    "pos = np.arange(sorted_features.shape[0]) + .5\n",
    "\n",
    "\n",
    "plt.figure(figsize=(10,8))\n",
    "plt.barh(pos, feature_importance[sorted_features], align='center', color='crimson')\n",
    "plt.title('Variable Importance')\n",
    "plt.xlabel('Relative Importance')\n",
    "\n",
    "plt.yticks(pos, data.columns[sorted_features])\n",
    "\n",
    "plt.show()"
   ]
  },
  {
   "cell_type": "code",
   "execution_count": 8,
   "metadata": {},
   "outputs": [
    {
     "data": {
      "text/html": [
       "<style  type=\"text/css\" >\n",
       "</style>  \n",
       "<table id=\"T_72e3be1e_12f0_11e9_9ac7_5cea1d2c9d42\" > \n",
       "<thead>    <tr> \n",
       "        <th class=\"blank level0\" ></th> \n",
       "        <th class=\"col_heading level0 col0\" >Feature</th> \n",
       "        <th class=\"col_heading level0 col1\" >Importance</th> \n",
       "    </tr></thead> \n",
       "<tbody>    <tr> \n",
       "        <th id=\"T_72e3be1e_12f0_11e9_9ac7_5cea1d2c9d42level0_row0\" class=\"row_heading level0 row0\" >0</th> \n",
       "        <td id=\"T_72e3be1e_12f0_11e9_9ac7_5cea1d2c9d42row0_col0\" class=\"data row0 col0\" >annualIncome</td> \n",
       "        <td id=\"T_72e3be1e_12f0_11e9_9ac7_5cea1d2c9d42row0_col1\" class=\"data row0 col1\" >19.48%</td> \n",
       "    </tr>    <tr> \n",
       "        <th id=\"T_72e3be1e_12f0_11e9_9ac7_5cea1d2c9d42level0_row1\" class=\"row_heading level0 row1\" >1</th> \n",
       "        <td id=\"T_72e3be1e_12f0_11e9_9ac7_5cea1d2c9d42row1_col0\" class=\"data row1 col0\" >revolvingBalance</td> \n",
       "        <td id=\"T_72e3be1e_12f0_11e9_9ac7_5cea1d2c9d42row1_col1\" class=\"data row1 col1\" >13.71%</td> \n",
       "    </tr>    <tr> \n",
       "        <th id=\"T_72e3be1e_12f0_11e9_9ac7_5cea1d2c9d42level0_row2\" class=\"row_heading level0 row2\" >2</th> \n",
       "        <td id=\"T_72e3be1e_12f0_11e9_9ac7_5cea1d2c9d42row2_col0\" class=\"data row2 col0\" >dtiRatio</td> \n",
       "        <td id=\"T_72e3be1e_12f0_11e9_9ac7_5cea1d2c9d42row2_col1\" class=\"data row2 col1\" >11.49%</td> \n",
       "    </tr>    <tr> \n",
       "        <th id=\"T_72e3be1e_12f0_11e9_9ac7_5cea1d2c9d42level0_row3\" class=\"row_heading level0 row3\" >3</th> \n",
       "        <td id=\"T_72e3be1e_12f0_11e9_9ac7_5cea1d2c9d42row3_col0\" class=\"data row3 col0\" >loanAmount</td> \n",
       "        <td id=\"T_72e3be1e_12f0_11e9_9ac7_5cea1d2c9d42row3_col1\" class=\"data row3 col1\" >9.64%</td> \n",
       "    </tr>    <tr> \n",
       "        <th id=\"T_72e3be1e_12f0_11e9_9ac7_5cea1d2c9d42level0_row4\" class=\"row_heading level0 row4\" >4</th> \n",
       "        <td id=\"T_72e3be1e_12f0_11e9_9ac7_5cea1d2c9d42row4_col0\" class=\"data row4 col0\" >revolvingUtilizationRate</td> \n",
       "        <td id=\"T_72e3be1e_12f0_11e9_9ac7_5cea1d2c9d42row4_col1\" class=\"data row4 col1\" >9.17%</td> \n",
       "    </tr>    <tr> \n",
       "        <th id=\"T_72e3be1e_12f0_11e9_9ac7_5cea1d2c9d42level0_row5\" class=\"row_heading level0 row5\" >5</th> \n",
       "        <td id=\"T_72e3be1e_12f0_11e9_9ac7_5cea1d2c9d42row5_col0\" class=\"data row5 col0\" >lengthCreditHistory</td> \n",
       "        <td id=\"T_72e3be1e_12f0_11e9_9ac7_5cea1d2c9d42row5_col1\" class=\"data row5 col1\" >4.89%</td> \n",
       "    </tr>    <tr> \n",
       "        <th id=\"T_72e3be1e_12f0_11e9_9ac7_5cea1d2c9d42level0_row6\" class=\"row_heading level0 row6\" >6</th> \n",
       "        <td id=\"T_72e3be1e_12f0_11e9_9ac7_5cea1d2c9d42row6_col0\" class=\"data row6 col0\" >numOpenCreditLines1Year</td> \n",
       "        <td id=\"T_72e3be1e_12f0_11e9_9ac7_5cea1d2c9d42row6_col1\" class=\"data row6 col1\" >4.46%</td> \n",
       "    </tr>    <tr> \n",
       "        <th id=\"T_72e3be1e_12f0_11e9_9ac7_5cea1d2c9d42level0_row7\" class=\"row_heading level0 row7\" >7</th> \n",
       "        <td id=\"T_72e3be1e_12f0_11e9_9ac7_5cea1d2c9d42row7_col0\" class=\"data row7 col0\" >numTotalCreditLines</td> \n",
       "        <td id=\"T_72e3be1e_12f0_11e9_9ac7_5cea1d2c9d42row7_col1\" class=\"data row7 col1\" >4.18%</td> \n",
       "    </tr>    <tr> \n",
       "        <th id=\"T_72e3be1e_12f0_11e9_9ac7_5cea1d2c9d42level0_row8\" class=\"row_heading level0 row8\" >8</th> \n",
       "        <td id=\"T_72e3be1e_12f0_11e9_9ac7_5cea1d2c9d42row8_col0\" class=\"data row8 col0\" >numOpenCreditLines</td> \n",
       "        <td id=\"T_72e3be1e_12f0_11e9_9ac7_5cea1d2c9d42row8_col1\" class=\"data row8 col1\" >3.81%</td> \n",
       "    </tr>    <tr> \n",
       "        <th id=\"T_72e3be1e_12f0_11e9_9ac7_5cea1d2c9d42level0_row9\" class=\"row_heading level0 row9\" >9</th> \n",
       "        <td id=\"T_72e3be1e_12f0_11e9_9ac7_5cea1d2c9d42row9_col0\" class=\"data row9 col0\" >numInquiries6Mon</td> \n",
       "        <td id=\"T_72e3be1e_12f0_11e9_9ac7_5cea1d2c9d42row9_col1\" class=\"data row9 col1\" >2.80%</td> \n",
       "    </tr>    <tr> \n",
       "        <th id=\"T_72e3be1e_12f0_11e9_9ac7_5cea1d2c9d42level0_row10\" class=\"row_heading level0 row10\" >10</th> \n",
       "        <td id=\"T_72e3be1e_12f0_11e9_9ac7_5cea1d2c9d42row10_col0\" class=\"data row10 col0\" >numDerogatoryRec</td> \n",
       "        <td id=\"T_72e3be1e_12f0_11e9_9ac7_5cea1d2c9d42row10_col1\" class=\"data row10 col1\" >1.73%</td> \n",
       "    </tr>    <tr> \n",
       "        <th id=\"T_72e3be1e_12f0_11e9_9ac7_5cea1d2c9d42level0_row11\" class=\"row_heading level0 row11\" >11</th> \n",
       "        <td id=\"T_72e3be1e_12f0_11e9_9ac7_5cea1d2c9d42row11_col0\" class=\"data row11 col0\" >numChargeoff1year</td> \n",
       "        <td id=\"T_72e3be1e_12f0_11e9_9ac7_5cea1d2c9d42row11_col1\" class=\"data row11 col1\" >1.35%</td> \n",
       "    </tr>    <tr> \n",
       "        <th id=\"T_72e3be1e_12f0_11e9_9ac7_5cea1d2c9d42level0_row12\" class=\"row_heading level0 row12\" >12</th> \n",
       "        <td id=\"T_72e3be1e_12f0_11e9_9ac7_5cea1d2c9d42row12_col0\" class=\"data row12 col0\" >numDelinquency2Years</td> \n",
       "        <td id=\"T_72e3be1e_12f0_11e9_9ac7_5cea1d2c9d42row12_col1\" class=\"data row12 col1\" >1.20%</td> \n",
       "    </tr>    <tr> \n",
       "        <th id=\"T_72e3be1e_12f0_11e9_9ac7_5cea1d2c9d42level0_row13\" class=\"row_heading level0 row13\" >13</th> \n",
       "        <td id=\"T_72e3be1e_12f0_11e9_9ac7_5cea1d2c9d42row13_col0\" class=\"data row13 col0\" >yearsEmployment_< 1 year</td> \n",
       "        <td id=\"T_72e3be1e_12f0_11e9_9ac7_5cea1d2c9d42row13_col1\" class=\"data row13 col1\" >0.94%</td> \n",
       "    </tr>    <tr> \n",
       "        <th id=\"T_72e3be1e_12f0_11e9_9ac7_5cea1d2c9d42level0_row14\" class=\"row_heading level0 row14\" >14</th> \n",
       "        <td id=\"T_72e3be1e_12f0_11e9_9ac7_5cea1d2c9d42row14_col0\" class=\"data row14 col0\" >homeOwnership_rent</td> \n",
       "        <td id=\"T_72e3be1e_12f0_11e9_9ac7_5cea1d2c9d42row14_col1\" class=\"data row14 col1\" >0.93%</td> \n",
       "    </tr>    <tr> \n",
       "        <th id=\"T_72e3be1e_12f0_11e9_9ac7_5cea1d2c9d42level0_row15\" class=\"row_heading level0 row15\" >15</th> \n",
       "        <td id=\"T_72e3be1e_12f0_11e9_9ac7_5cea1d2c9d42row15_col0\" class=\"data row15 col0\" >incomeVerified</td> \n",
       "        <td id=\"T_72e3be1e_12f0_11e9_9ac7_5cea1d2c9d42row15_col1\" class=\"data row15 col1\" >0.80%</td> \n",
       "    </tr>    <tr> \n",
       "        <th id=\"T_72e3be1e_12f0_11e9_9ac7_5cea1d2c9d42level0_row16\" class=\"row_heading level0 row16\" >16</th> \n",
       "        <td id=\"T_72e3be1e_12f0_11e9_9ac7_5cea1d2c9d42row16_col0\" class=\"data row16 col0\" >term_48 months</td> \n",
       "        <td id=\"T_72e3be1e_12f0_11e9_9ac7_5cea1d2c9d42row16_col1\" class=\"data row16 col1\" >0.78%</td> \n",
       "    </tr>    <tr> \n",
       "        <th id=\"T_72e3be1e_12f0_11e9_9ac7_5cea1d2c9d42level0_row17\" class=\"row_heading level0 row17\" >17</th> \n",
       "        <td id=\"T_72e3be1e_12f0_11e9_9ac7_5cea1d2c9d42row17_col0\" class=\"data row17 col0\" >homeOwnership_mortgage</td> \n",
       "        <td id=\"T_72e3be1e_12f0_11e9_9ac7_5cea1d2c9d42row17_col1\" class=\"data row17 col1\" >0.78%</td> \n",
       "    </tr>    <tr> \n",
       "        <th id=\"T_72e3be1e_12f0_11e9_9ac7_5cea1d2c9d42level0_row18\" class=\"row_heading level0 row18\" >18</th> \n",
       "        <td id=\"T_72e3be1e_12f0_11e9_9ac7_5cea1d2c9d42row18_col0\" class=\"data row18 col0\" >yearsEmployment_10+ years</td> \n",
       "        <td id=\"T_72e3be1e_12f0_11e9_9ac7_5cea1d2c9d42row18_col1\" class=\"data row18 col1\" >0.77%</td> \n",
       "    </tr>    <tr> \n",
       "        <th id=\"T_72e3be1e_12f0_11e9_9ac7_5cea1d2c9d42level0_row19\" class=\"row_heading level0 row19\" >19</th> \n",
       "        <td id=\"T_72e3be1e_12f0_11e9_9ac7_5cea1d2c9d42row19_col0\" class=\"data row19 col0\" >term_60 months</td> \n",
       "        <td id=\"T_72e3be1e_12f0_11e9_9ac7_5cea1d2c9d42row19_col1\" class=\"data row19 col1\" >0.76%</td> \n",
       "    </tr>    <tr> \n",
       "        <th id=\"T_72e3be1e_12f0_11e9_9ac7_5cea1d2c9d42level0_row20\" class=\"row_heading level0 row20\" >20</th> \n",
       "        <td id=\"T_72e3be1e_12f0_11e9_9ac7_5cea1d2c9d42row20_col0\" class=\"data row20 col0\" >homeOwnership_own</td> \n",
       "        <td id=\"T_72e3be1e_12f0_11e9_9ac7_5cea1d2c9d42row20_col1\" class=\"data row20 col1\" >0.66%</td> \n",
       "    </tr>    <tr> \n",
       "        <th id=\"T_72e3be1e_12f0_11e9_9ac7_5cea1d2c9d42level0_row21\" class=\"row_heading level0 row21\" >21</th> \n",
       "        <td id=\"T_72e3be1e_12f0_11e9_9ac7_5cea1d2c9d42row21_col0\" class=\"data row21 col0\" >term_36 months</td> \n",
       "        <td id=\"T_72e3be1e_12f0_11e9_9ac7_5cea1d2c9d42row21_col1\" class=\"data row21 col1\" >0.66%</td> \n",
       "    </tr>    <tr> \n",
       "        <th id=\"T_72e3be1e_12f0_11e9_9ac7_5cea1d2c9d42level0_row22\" class=\"row_heading level0 row22\" >22</th> \n",
       "        <td id=\"T_72e3be1e_12f0_11e9_9ac7_5cea1d2c9d42row22_col0\" class=\"data row22 col0\" >yearsEmployment_2-5 years</td> \n",
       "        <td id=\"T_72e3be1e_12f0_11e9_9ac7_5cea1d2c9d42row22_col1\" class=\"data row22 col1\" >0.65%</td> \n",
       "    </tr>    <tr> \n",
       "        <th id=\"T_72e3be1e_12f0_11e9_9ac7_5cea1d2c9d42level0_row23\" class=\"row_heading level0 row23\" >23</th> \n",
       "        <td id=\"T_72e3be1e_12f0_11e9_9ac7_5cea1d2c9d42row23_col0\" class=\"data row23 col0\" >yearsEmployment_6-9 years</td> \n",
       "        <td id=\"T_72e3be1e_12f0_11e9_9ac7_5cea1d2c9d42row23_col1\" class=\"data row23 col1\" >0.64%</td> \n",
       "    </tr>    <tr> \n",
       "        <th id=\"T_72e3be1e_12f0_11e9_9ac7_5cea1d2c9d42level0_row24\" class=\"row_heading level0 row24\" >24</th> \n",
       "        <td id=\"T_72e3be1e_12f0_11e9_9ac7_5cea1d2c9d42row24_col0\" class=\"data row24 col0\" >yearsEmployment_1 year</td> \n",
       "        <td id=\"T_72e3be1e_12f0_11e9_9ac7_5cea1d2c9d42row24_col1\" class=\"data row24 col1\" >0.57%</td> \n",
       "    </tr>    <tr> \n",
       "        <th id=\"T_72e3be1e_12f0_11e9_9ac7_5cea1d2c9d42level0_row25\" class=\"row_heading level0 row25\" >25</th> \n",
       "        <td id=\"T_72e3be1e_12f0_11e9_9ac7_5cea1d2c9d42row25_col0\" class=\"data row25 col0\" >purpose_healthcare</td> \n",
       "        <td id=\"T_72e3be1e_12f0_11e9_9ac7_5cea1d2c9d42row25_col1\" class=\"data row25 col1\" >0.56%</td> \n",
       "    </tr>    <tr> \n",
       "        <th id=\"T_72e3be1e_12f0_11e9_9ac7_5cea1d2c9d42level0_row26\" class=\"row_heading level0 row26\" >26</th> \n",
       "        <td id=\"T_72e3be1e_12f0_11e9_9ac7_5cea1d2c9d42row26_col0\" class=\"data row26 col0\" >isJointApplication</td> \n",
       "        <td id=\"T_72e3be1e_12f0_11e9_9ac7_5cea1d2c9d42row26_col1\" class=\"data row26 col1\" >0.48%</td> \n",
       "    </tr>    <tr> \n",
       "        <th id=\"T_72e3be1e_12f0_11e9_9ac7_5cea1d2c9d42level0_row27\" class=\"row_heading level0 row27\" >27</th> \n",
       "        <td id=\"T_72e3be1e_12f0_11e9_9ac7_5cea1d2c9d42row27_col0\" class=\"data row27 col0\" >purpose_homeimprovement</td> \n",
       "        <td id=\"T_72e3be1e_12f0_11e9_9ac7_5cea1d2c9d42row27_col1\" class=\"data row27 col1\" >0.47%</td> \n",
       "    </tr>    <tr> \n",
       "        <th id=\"T_72e3be1e_12f0_11e9_9ac7_5cea1d2c9d42level0_row28\" class=\"row_heading level0 row28\" >28</th> \n",
       "        <td id=\"T_72e3be1e_12f0_11e9_9ac7_5cea1d2c9d42row28_col0\" class=\"data row28 col0\" >purpose_debtconsolidation</td> \n",
       "        <td id=\"T_72e3be1e_12f0_11e9_9ac7_5cea1d2c9d42row28_col1\" class=\"data row28 col1\" >0.46%</td> \n",
       "    </tr>    <tr> \n",
       "        <th id=\"T_72e3be1e_12f0_11e9_9ac7_5cea1d2c9d42level0_row29\" class=\"row_heading level0 row29\" >29</th> \n",
       "        <td id=\"T_72e3be1e_12f0_11e9_9ac7_5cea1d2c9d42row29_col0\" class=\"data row29 col0\" >purpose_business</td> \n",
       "        <td id=\"T_72e3be1e_12f0_11e9_9ac7_5cea1d2c9d42row29_col1\" class=\"data row29 col1\" >0.43%</td> \n",
       "    </tr>    <tr> \n",
       "        <th id=\"T_72e3be1e_12f0_11e9_9ac7_5cea1d2c9d42level0_row30\" class=\"row_heading level0 row30\" >30</th> \n",
       "        <td id=\"T_72e3be1e_12f0_11e9_9ac7_5cea1d2c9d42row30_col0\" class=\"data row30 col0\" >purpose_other</td> \n",
       "        <td id=\"T_72e3be1e_12f0_11e9_9ac7_5cea1d2c9d42row30_col1\" class=\"data row30 col1\" >0.37%</td> \n",
       "    </tr>    <tr> \n",
       "        <th id=\"T_72e3be1e_12f0_11e9_9ac7_5cea1d2c9d42level0_row31\" class=\"row_heading level0 row31\" >31</th> \n",
       "        <td id=\"T_72e3be1e_12f0_11e9_9ac7_5cea1d2c9d42row31_col0\" class=\"data row31 col0\" >purpose_auto</td> \n",
       "        <td id=\"T_72e3be1e_12f0_11e9_9ac7_5cea1d2c9d42row31_col1\" class=\"data row31 col1\" >0.20%</td> \n",
       "    </tr>    <tr> \n",
       "        <th id=\"T_72e3be1e_12f0_11e9_9ac7_5cea1d2c9d42level0_row32\" class=\"row_heading level0 row32\" >32</th> \n",
       "        <td id=\"T_72e3be1e_12f0_11e9_9ac7_5cea1d2c9d42row32_col0\" class=\"data row32 col0\" >purpose_education</td> \n",
       "        <td id=\"T_72e3be1e_12f0_11e9_9ac7_5cea1d2c9d42row32_col1\" class=\"data row32 col1\" >0.19%</td> \n",
       "    </tr></tbody> \n",
       "</table> "
      ],
      "text/plain": [
       "<pandas.io.formats.style.Styler at 0x2d26004e1d0>"
      ]
     },
     "execution_count": 8,
     "metadata": {},
     "output_type": "execute_result"
    }
   ],
   "source": [
    "feature_importance_list=sorted(zip(clf.feature_importances_, feature_names), reverse=True)\n",
    "output=pd.DataFrame(feature_importance_list)\n",
    "output.columns=['Importance','Feature']\n",
    "output = output[['Feature','Importance']]\n",
    "output=output.style.format({\n",
    "    'Importance': '{:,.2%}'.format\n",
    "})\n",
    "output"
   ]
  },
  {
   "cell_type": "code",
   "execution_count": 9,
   "metadata": {},
   "outputs": [
    {
     "data": {
      "text/html": [
       "<div>\n",
       "<style scoped>\n",
       "    .dataframe tbody tr th:only-of-type {\n",
       "        vertical-align: middle;\n",
       "    }\n",
       "\n",
       "    .dataframe tbody tr th {\n",
       "        vertical-align: top;\n",
       "    }\n",
       "\n",
       "    .dataframe thead th {\n",
       "        text-align: right;\n",
       "    }\n",
       "</style>\n",
       "<table border=\"1\" class=\"dataframe\">\n",
       "  <thead>\n",
       "    <tr style=\"text-align: right;\">\n",
       "      <th></th>\n",
       "      <th>Feature Selected</th>\n",
       "    </tr>\n",
       "  </thead>\n",
       "  <tbody>\n",
       "    <tr>\n",
       "      <th>0</th>\n",
       "      <td>annualIncome</td>\n",
       "    </tr>\n",
       "    <tr>\n",
       "      <th>1</th>\n",
       "      <td>revolvingBalance</td>\n",
       "    </tr>\n",
       "    <tr>\n",
       "      <th>2</th>\n",
       "      <td>dtiRatio</td>\n",
       "    </tr>\n",
       "    <tr>\n",
       "      <th>3</th>\n",
       "      <td>loanAmount</td>\n",
       "    </tr>\n",
       "    <tr>\n",
       "      <th>4</th>\n",
       "      <td>revolvingUtilizationRate</td>\n",
       "    </tr>\n",
       "    <tr>\n",
       "      <th>5</th>\n",
       "      <td>lengthCreditHistory</td>\n",
       "    </tr>\n",
       "    <tr>\n",
       "      <th>6</th>\n",
       "      <td>numOpenCreditLines1Year</td>\n",
       "    </tr>\n",
       "    <tr>\n",
       "      <th>7</th>\n",
       "      <td>numTotalCreditLines</td>\n",
       "    </tr>\n",
       "    <tr>\n",
       "      <th>8</th>\n",
       "      <td>numOpenCreditLines</td>\n",
       "    </tr>\n",
       "    <tr>\n",
       "      <th>9</th>\n",
       "      <td>numInquiries6Mon</td>\n",
       "    </tr>\n",
       "    <tr>\n",
       "      <th>10</th>\n",
       "      <td>numDerogatoryRec</td>\n",
       "    </tr>\n",
       "    <tr>\n",
       "      <th>11</th>\n",
       "      <td>numChargeoff1year</td>\n",
       "    </tr>\n",
       "    <tr>\n",
       "      <th>12</th>\n",
       "      <td>numDelinquency2Years</td>\n",
       "    </tr>\n",
       "  </tbody>\n",
       "</table>\n",
       "</div>"
      ],
      "text/plain": [
       "            Feature Selected\n",
       "0               annualIncome\n",
       "1           revolvingBalance\n",
       "2                   dtiRatio\n",
       "3                 loanAmount\n",
       "4   revolvingUtilizationRate\n",
       "5        lengthCreditHistory\n",
       "6    numOpenCreditLines1Year\n",
       "7        numTotalCreditLines\n",
       "8         numOpenCreditLines\n",
       "9           numInquiries6Mon\n",
       "10          numDerogatoryRec\n",
       "11         numChargeoff1year\n",
       "12      numDelinquency2Years"
      ]
     },
     "execution_count": 9,
     "metadata": {},
     "output_type": "execute_result"
    }
   ],
   "source": [
    "feature_selected=[feature[1] for feature in feature_importance_list if (feature[0]>=0.01)]\n",
    "pd.DataFrame(feature_selected,columns=[\"Feature Selected\"])"
   ]
  },
  {
   "cell_type": "markdown",
   "metadata": {},
   "source": [
    "## Correlation Analysis"
   ]
  },
  {
   "cell_type": "code",
   "execution_count": 10,
   "metadata": {},
   "outputs": [
    {
     "data": {
      "image/png": "[encoded data removed]",
      "text/plain": [
       "<Figure size 432x288 with 2 Axes>"
      ]
     },
     "metadata": {},
     "output_type": "display_data"
    }
   ],
   "source": [
    "correlations = data[feature_selected].corr()\n",
    "sns.heatmap(correlations, vmax=.8, square=True)\n",
    "plt.show()"
   ]
  },
  {
   "cell_type": "code",
   "execution_count": 11,
   "metadata": {},
   "outputs": [
    {
     "data": {
      "text/html": [
       "<div>\n",
       "<style scoped>\n",
       "    .dataframe tbody tr th:only-of-type {\n",
       "        vertical-align: middle;\n",
       "    }\n",
       "\n",
       "    .dataframe tbody tr th {\n",
       "        vertical-align: top;\n",
       "    }\n",
       "\n",
       "    .dataframe thead th {\n",
       "        text-align: right;\n",
       "    }\n",
       "</style>\n",
       "<table border=\"1\" class=\"dataframe\">\n",
       "  <thead>\n",
       "    <tr style=\"text-align: right;\">\n",
       "      <th></th>\n",
       "      <th>Feature Selected</th>\n",
       "    </tr>\n",
       "  </thead>\n",
       "  <tbody>\n",
       "    <tr>\n",
       "      <th>0</th>\n",
       "      <td>annualIncome</td>\n",
       "    </tr>\n",
       "    <tr>\n",
       "      <th>1</th>\n",
       "      <td>revolvingBalance</td>\n",
       "    </tr>\n",
       "    <tr>\n",
       "      <th>2</th>\n",
       "      <td>dtiRatio</td>\n",
       "    </tr>\n",
       "    <tr>\n",
       "      <th>3</th>\n",
       "      <td>loanAmount</td>\n",
       "    </tr>\n",
       "    <tr>\n",
       "      <th>4</th>\n",
       "      <td>revolvingUtilizationRate</td>\n",
       "    </tr>\n",
       "    <tr>\n",
       "      <th>5</th>\n",
       "      <td>lengthCreditHistory</td>\n",
       "    </tr>\n",
       "    <tr>\n",
       "      <th>6</th>\n",
       "      <td>numOpenCreditLines1Year</td>\n",
       "    </tr>\n",
       "    <tr>\n",
       "      <th>7</th>\n",
       "      <td>numInquiries6Mon</td>\n",
       "    </tr>\n",
       "    <tr>\n",
       "      <th>8</th>\n",
       "      <td>numDerogatoryRec</td>\n",
       "    </tr>\n",
       "    <tr>\n",
       "      <th>9</th>\n",
       "      <td>numChargeoff1year</td>\n",
       "    </tr>\n",
       "  </tbody>\n",
       "</table>\n",
       "</div>"
      ],
      "text/plain": [
       "           Feature Selected\n",
       "0              annualIncome\n",
       "1          revolvingBalance\n",
       "2                  dtiRatio\n",
       "3                loanAmount\n",
       "4  revolvingUtilizationRate\n",
       "5       lengthCreditHistory\n",
       "6   numOpenCreditLines1Year\n",
       "7          numInquiries6Mon\n",
       "8          numDerogatoryRec\n",
       "9         numChargeoff1year"
      ]
     },
     "execution_count": 11,
     "metadata": {},
     "output_type": "execute_result"
    }
   ],
   "source": [
    "feature_selected.remove(\"numTotalCreditLines\")\n",
    "feature_selected.remove(\"numOpenCreditLines\")\n",
    "feature_selected.remove(\"numDelinquency2Years\")\n",
    "\n",
    "pd.DataFrame(feature_selected,columns=[\"Feature Selected\"])"
   ]
  },
  {
   "cell_type": "code",
   "execution_count": 12,
   "metadata": {},
   "outputs": [
    {
     "data": {
      "image/png": "[encoded data removed]",
      "text/plain": [
       "<Figure size 432x288 with 2 Axes>"
      ]
     },
     "metadata": {},
     "output_type": "display_data"
    }
   ],
   "source": [
    "correlations = data[feature_selected].corr()\n",
    "sns.heatmap(correlations, vmax=.8, square=True)\n",
    "plt.show()"
   ]
  },
  {
   "cell_type": "markdown",
   "metadata": {},
   "source": [
    "# Data Spliting"
   ]
  },
  {
   "cell_type": "code",
   "execution_count": 13,
   "metadata": {},
   "outputs": [],
   "source": [
    "from sklearn.model_selection import train_test_split\n",
    "X_train, X_test, y_train, y_test = train_test_split(data, target, random_state=42)"
   ]
  },
  {
   "cell_type": "markdown",
   "metadata": {},
   "source": [
    "# Decison Tree"
   ]
  },
  {
   "cell_type": "code",
   "execution_count": 14,
   "metadata": {},
   "outputs": [],
   "source": [
    "tree_param = {'criterion': [\"gini\",\"entropy\"],\n",
    "              'min_samples_split' : [50],\n",
    "              'max_depth': [2, 5, 10]\n",
    "             }\n",
    "tree_classifier = tree.DecisionTreeClassifier()\n",
    "tree_classifier_best = GridSearchCV(estimator=tree_classifier, param_grid=tree_param, cv=5)\n",
    "\n",
    "tree_classifier_best=tree_classifier_best.fit(X_train[feature_selected], y_train)"
   ]
  },
  {
   "cell_type": "code",
   "execution_count": 15,
   "metadata": {},
   "outputs": [
    {
     "data": {
      "text/html": [
       "<div>\n",
       "<style scoped>\n",
       "    .dataframe tbody tr th:only-of-type {\n",
       "        vertical-align: middle;\n",
       "    }\n",
       "\n",
       "    .dataframe tbody tr th {\n",
       "        vertical-align: top;\n",
       "    }\n",
       "\n",
       "    .dataframe thead th {\n",
       "        text-align: right;\n",
       "    }\n",
       "</style>\n",
       "<table border=\"1\" class=\"dataframe\">\n",
       "  <thead>\n",
       "    <tr style=\"text-align: right;\">\n",
       "      <th></th>\n",
       "      <th>criterion</th>\n",
       "      <th>max_depth</th>\n",
       "      <th>min_samples_split</th>\n",
       "    </tr>\n",
       "  </thead>\n",
       "  <tbody>\n",
       "    <tr>\n",
       "      <th>0</th>\n",
       "      <td>gini</td>\n",
       "      <td>5</td>\n",
       "      <td>50</td>\n",
       "    </tr>\n",
       "  </tbody>\n",
       "</table>\n",
       "</div>"
      ],
      "text/plain": [
       "  criterion  max_depth  min_samples_split\n",
       "0      gini          5                 50"
      ]
     },
     "execution_count": 15,
     "metadata": {},
     "output_type": "execute_result"
    }
   ],
   "source": [
    "pd.DataFrame([tree_classifier_best.best_params_])"
   ]
  },
  {
   "cell_type": "code",
   "execution_count": 16,
   "metadata": {},
   "outputs": [
    {
     "name": "stdout",
     "output_type": "stream",
     "text": [
      "Score: 0.9037188189730563\n"
     ]
    }
   ],
   "source": [
    "tree_classifier = tree.DecisionTreeClassifier(criterion='gini',max_depth=5,min_samples_split=50)\n",
    "tree_classificator = tree_classifier.fit(X_train[feature_selected], y_train)\n",
    "print(f\"Score: {tree_classifier.score(X_test[feature_selected], y_test)}\")"
   ]
  },
  {
   "cell_type": "code",
   "execution_count": 17,
   "metadata": {},
   "outputs": [
    {
     "data": {
      "image/png": "[encoded data removed]",
      "text/plain": [
       "<Figure size 432x288 with 1 Axes>"
      ]
     },
     "metadata": {},
     "output_type": "display_data"
    }
   ],
   "source": [
    "feature_importance = tree_classificator.feature_importances_\n",
    "feature_importance = 100.0 * (feature_importance / feature_importance.max())\n",
    "sorted_features = np.argsort(feature_importance)\n",
    "pos = np.arange(sorted_features.shape[0]) + .5\n",
    "\n",
    "plt.barh(pos, feature_importance[sorted_features], align='center', color='crimson')\n",
    "plt.title('Variable Importance')\n",
    "plt.xlabel('Relative Importance')\n",
    "\n",
    "plt.yticks(pos, X_train[feature_selected].columns[sorted_features])\n",
    "\n",
    "plt.show()"
   ]
  },
  {
   "cell_type": "markdown",
   "metadata": {},
   "source": [
    "# Random Forest"
   ]
  },
  {
   "cell_type": "code",
   "execution_count": 18,
   "metadata": {
    "scrolled": false
   },
   "outputs": [
    {
     "data": {
      "text/html": [
       "<div>\n",
       "<style scoped>\n",
       "    .dataframe tbody tr th:only-of-type {\n",
       "        vertical-align: middle;\n",
       "    }\n",
       "\n",
       "    .dataframe tbody tr th {\n",
       "        vertical-align: top;\n",
       "    }\n",
       "\n",
       "    .dataframe thead th {\n",
       "        text-align: right;\n",
       "    }\n",
       "</style>\n",
       "<table border=\"1\" class=\"dataframe\">\n",
       "  <thead>\n",
       "    <tr style=\"text-align: right;\">\n",
       "      <th></th>\n",
       "      <th>criterion</th>\n",
       "      <th>max_depth</th>\n",
       "      <th>min_samples_split</th>\n",
       "      <th>n_estimators</th>\n",
       "    </tr>\n",
       "  </thead>\n",
       "  <tbody>\n",
       "    <tr>\n",
       "      <th>0</th>\n",
       "      <td>gini</td>\n",
       "      <td>10</td>\n",
       "      <td>50</td>\n",
       "      <td>100</td>\n",
       "    </tr>\n",
       "  </tbody>\n",
       "</table>\n",
       "</div>"
      ],
      "text/plain": [
       "  criterion  max_depth  min_samples_split  n_estimators\n",
       "0      gini         10                 50           100"
      ]
     },
     "execution_count": 18,
     "metadata": {},
     "output_type": "execute_result"
    }
   ],
   "source": [
    "from sklearn.ensemble import RandomForestClassifier\n",
    "from sklearn.model_selection import GridSearchCV\n",
    "rf = RandomForestClassifier()\n",
    "\n",
    "rf_param = {'n_estimators': [10, 100, 200],\n",
    "              'criterion' : ['gini'],\n",
    "              'min_samples_split' : [50],\n",
    "              'max_depth': [2, 5, 10]}\n",
    "\n",
    "rf_best = GridSearchCV(estimator=rf, param_grid=rf_param, cv=5)\n",
    "rf_best.fit(X_train[feature_selected], y_train)\n",
    "\n",
    "pd.DataFrame([rf_best.best_params_])"
   ]
  },
  {
   "cell_type": "code",
   "execution_count": 19,
   "metadata": {},
   "outputs": [
    {
     "name": "stdout",
     "output_type": "stream",
     "text": [
      "Score: 0.909548994294757\n"
     ]
    }
   ],
   "source": [
    "rf = RandomForestClassifier(n_estimators=100,\n",
    "              criterion='gini',\n",
    "              min_samples_split=50,\n",
    "              max_depth= 10)\n",
    "rf=rf.fit(X_train[feature_selected], y_train)\n",
    "print(f\"Score: {rf.score(X_test[feature_selected], y_test)}\")"
   ]
  },
  {
   "cell_type": "markdown",
   "metadata": {},
   "source": [
    "# Logistic Regression"
   ]
  },
  {
   "cell_type": "code",
   "execution_count": 20,
   "metadata": {},
   "outputs": [
    {
     "name": "stdout",
     "output_type": "stream",
     "text": [
      "Score: 0.89988756090451\n"
     ]
    }
   ],
   "source": [
    "from sklearn.linear_model import LogisticRegression\n",
    "# from sklearn import metrics\n",
    "\n",
    "logreg = LogisticRegression()\n",
    "logreg.fit(X_train[feature_selected], y_train)\n",
    "print(f\"Score: {logreg.score(X_test[feature_selected], y_test)}\")"
   ]
  },
  {
   "cell_type": "markdown",
   "metadata": {},
   "source": [
    "# Deep Learning"
   ]
  },
  {
   "cell_type": "code",
   "execution_count": 21,
   "metadata": {},
   "outputs": [
    {
     "name": "stderr",
     "output_type": "stream",
     "text": [
      "C:\\Users\\marce\\Anaconda3\\envs\\MarceloEnvironment\\lib\\site-packages\\h5py\\__init__.py:36: FutureWarning: Conversion of the second argument of issubdtype from `float` to `np.floating` is deprecated. In future, it will be treated as `np.float64 == np.dtype(float).type`.\n",
      "  from ._conv import register_converters as _register_converters\n",
      "Using TensorFlow backend.\n"
     ]
    }
   ],
   "source": [
    "from sklearn.preprocessing import StandardScaler\n",
    "\n",
    "# Create a StandardScater model and fit it to the training data\n",
    "X_scaler = StandardScaler().fit(X_train[feature_selected])\n",
    "X_train_scaled = X_scaler.transform(X_train[feature_selected])\n",
    "X_test_scaled = X_scaler.transform(X_test[feature_selected])\n",
    "\n",
    "from keras.utils import to_categorical\n",
    "\n",
    "y_train_categorical = to_categorical(y_train)\n",
    "y_test_categorical = to_categorical(y_test)"
   ]
  },
  {
   "cell_type": "code",
   "execution_count": 22,
   "metadata": {},
   "outputs": [
    {
     "name": "stdout",
     "output_type": "stream",
     "text": [
      "_________________________________________________________________\n",
      "Layer (type)                 Output Shape              Param #   \n",
      "=================================================================\n",
      "dense_1 (Dense)              (None, 10)                110       \n",
      "_________________________________________________________________\n",
      "dense_2 (Dense)              (None, 10)                110       \n",
      "_________________________________________________________________\n",
      "dense_3 (Dense)              (None, 10)                110       \n",
      "_________________________________________________________________\n",
      "dense_4 (Dense)              (None, 2)                 22        \n",
      "=================================================================\n",
      "Total params: 352\n",
      "Trainable params: 352\n",
      "Non-trainable params: 0\n",
      "_________________________________________________________________\n"
     ]
    }
   ],
   "source": [
    "from keras.models import Sequential\n",
    "from keras.layers import Dense\n",
    "\n",
    "deep = Sequential()\n",
    "deep.add(Dense(units=10, activation='relu', input_dim=10))\n",
    "deep.add(Dense(units=10, activation='relu'))\n",
    "deep.add(Dense(units=10, activation='relu'))\n",
    "deep.add(Dense(units=2, activation='softmax'))\n",
    "deep.summary()"
   ]
  },
  {
   "cell_type": "code",
   "execution_count": 23,
   "metadata": {},
   "outputs": [],
   "source": [
    "# Compile the model\n",
    "deep.compile(optimizer='adam',\n",
    "              loss='categorical_crossentropy',\n",
    "              metrics=['accuracy'])"
   ]
  },
  {
   "cell_type": "code",
   "execution_count": 24,
   "metadata": {
    "scrolled": false
   },
   "outputs": [
    {
     "data": {
      "text/plain": [
       "<keras.callbacks.History at 0x2d26c2d3208>"
      ]
     },
     "execution_count": 24,
     "metadata": {},
     "output_type": "execute_result"
    }
   ],
   "source": [
    "# Fit the model to the training data\n",
    "deep.fit(\n",
    "    X_train_scaled,\n",
    "    y_train_categorical,\n",
    "    epochs=100,\n",
    "    shuffle=True,\n",
    "    verbose=0)"
   ]
  },
  {
   "cell_type": "markdown",
   "metadata": {},
   "source": [
    "# Model Assessment"
   ]
  },
  {
   "cell_type": "code",
   "execution_count": 25,
   "metadata": {},
   "outputs": [
    {
     "data": {
      "image/png": "[encoded data removed]",
      "text/plain": [
       "<Figure size 1440x720 with 5 Axes>"
      ]
     },
     "metadata": {},
     "output_type": "display_data"
    }
   ],
   "source": [
    "colors = ['red', 'blue', 'green','purple']\n",
    "\n",
    "classifiers = [tree_classificator, logreg, rf, deep]\n",
    "classifier_name = ['Decision Tree', 'Logistic Regression','Random Forest','Deep Learning']\n",
    "\n",
    "plt.figure(figsize=(20,10))\n",
    "ax=plt.subplot2grid((2, 4), (0, 1), colspan=2)\n",
    "for i in range(0, len(classifiers)):\n",
    "    classifier = classifiers[i]\n",
    "\n",
    "    if i == 3:\n",
    "        x_test = X_test_scaled\n",
    "        y_pred = classifier.predict_classes(x_test)\n",
    "    else:\n",
    "        x_test = X_test[feature_selected]\n",
    "        y_pred = classifier.predict(x_test)\n",
    "        \n",
    "    fpr, tpr, thresholds = roc_curve(y_test, classifier.predict_proba(x_test)[:,1])     \n",
    "    roc_auc = auc(fpr, tpr)\n",
    "    \n",
    "    y_test_prob=list(zip(y_test,classifier.predict_proba(x_test)[:,1]))\n",
    "\n",
    "    y_test_prob_goods=[i for i in y_test_prob if (i[0]==0)]\n",
    "    y_test_prob_goods = random.sample(y_test_prob_goods,2489)\n",
    "    y_test_prob_goods=np.array(y_test_prob_goods)\n",
    "    y_test_prob_bads=[i for i in y_test_prob if (i[0]==1)]\n",
    "    y_test_prob_bads=np.array(y_test_prob_bads)\n",
    "    \n",
    "    \n",
    "    conf_matrix = confusion_matrix(y_test, y_pred).tolist()\n",
    "    #conf_matrix = [np.concatenate([i,[sum(i)]]) for i in conf_matrix]\n",
    "    #conf_matrix=list(zip(conf_matrix,[sum(conf_matrix[i,:]) for i in range(2)]))\n",
    "    \n",
    "    ax.plot(fpr, tpr, label=str(classifier_name[i]) + '(AUROC = %0.2f)' % roc_auc,color=colors[i])\n",
    "    ax.plot([0, 1], [0, 1],'r--',color=\"black\")\n",
    "    ax.set_xlim([0.0, 1.0])\n",
    "    ax.set_ylim([0.0, 1.05])\n",
    "    ax.set_xlabel('False Positive Rate')\n",
    "    ax.set_ylabel('True Positive Rate')\n",
    "    ax.set_title('Receiver operating characteristic',fontsize=18)\n",
    "    ax.legend(loc=\"lower right\")\n",
    "    \n",
    "    plt.subplot2grid((2, 4), (1, i), colspan=1)\n",
    "    \n",
    "    n_bins = 50\n",
    "\n",
    "    x = y_test_prob_goods[:,1]\n",
    "    y = y_test_prob_bads[:,1]\n",
    "\n",
    "    plt.title(classifier_name[i],fontsize=18)\n",
    "    plt.xlabel(\"Probability(Class=Default)\")\n",
    "    plt.hist(x, bins=n_bins,alpha=0.8)\n",
    "    plt.hist(y, bins=n_bins,color=\"red\",alpha=0.4)\n",
    "    plt.ylim(0,600)\n",
    "    plt.xlim(0,1)\n",
    "    plt.axvline(x=0.5, ymin=0, linewidth=0.5, color='black')\n",
    "    plt.legend(['Cut-off','Goods','Bads'])\n",
    "    plt.table(cellText=conf_matrix,\n",
    "      cellLoc='right', colWidths=None,\n",
    "      rowLabels=['Goods','Bads'], rowColours=None, rowLoc='left',\n",
    "      colLabels=['Pred Goods','Pred Bads'], colColours=None, colLoc='center',\n",
    "      loc='bottom', bbox=[0, -0.5, 1, 0.3])"
   ]
  },
  {
   "cell_type": "markdown",
   "metadata": {},
   "source": [
    "# Save the Models"
   ]
  },
  {
   "cell_type": "code",
   "execution_count": 26,
   "metadata": {},
   "outputs": [],
   "source": [
    "import pickle\n",
    "\n",
    "# Decision Tree\n",
    "with open('models/tree.pkl', 'wb') as fid:\n",
    "    pickle.dump(tree_classificator, fid, 2)\n",
    "\n",
    "# Logistic Regression\n",
    "with open('models/logreg.pkl', 'wb') as fid:\n",
    "    pickle.dump(logreg, fid, 2)\n",
    "    \n",
    "# Random Forest\n",
    "with open('models/rf.pkl', 'wb') as fid:\n",
    "    pickle.dump(rf, fid, 2)\n",
    "    \n",
    "# Neural Network\n",
    "with open('models/neural.pkl', 'wb') as fid:\n",
    "    pickle.dump(deep, fid, 2)\n",
    "    \n",
    "# X Scaler for Neural Network\n",
    "with open('models/XScaler.pkl', 'wb') as fid:\n",
    "    pickle.dump(X_scaler, fid, 2)"
   ]
  },
  {
   "cell_type": "markdown",
   "metadata": {},
   "source": [
    "# Credit Policy Analysis"
   ]
  },
  {
   "cell_type": "code",
   "execution_count": 27,
   "metadata": {},
   "outputs": [],
   "source": [
    "inputs = X_test[feature_selected]\n",
    "scaler = pickle.load(open('models/XScaler.pkl', 'rb'))\n",
    "inputs_scaled = scaler.transform(inputs)\n",
    "\n",
    "model_files = ['models/tree.pkl', 'models/logreg.pkl', 'models/rf.pkl', 'models/neural.pkl']\n",
    "model_names = ['Decision Tree', 'Logistic Regression', 'Random Forest', 'Neural Network']\n",
    "\n",
    "tree_classificator = pickle.load(open(model_files[0], 'rb'))\n",
    "rf = pickle.load(open(model_files[2], 'rb'))\n",
    "logreg = pickle.load(open(model_files[1], 'rb'))\n",
    "deep = pickle.load(open(model_files[3], 'rb'))"
   ]
  },
  {
   "cell_type": "code",
   "execution_count": 28,
   "metadata": {},
   "outputs": [],
   "source": [
    "classifiers = [tree_classificator, logreg, rf, deep]\n",
    "classifier_name = ['Decision Tree', 'Logistic Regression','Random Forest','Deep Learning']\n",
    "approval_analysis_tot = []\n",
    "for i in range(0, len(classifiers)):\n",
    "    classifier = classifiers[i]\n",
    "    approval_analysis = []\n",
    "    if i == 3:\n",
    "        y_test_prob=list(zip(y_test,classifier.predict_proba(inputs_scaled)[:,1]))\n",
    "    else:\n",
    "        y_test_prob=list(zip(y_test,classifier.predict_proba(inputs)[:,1]))\n",
    "        \n",
    "    y_test_prob.sort(key=lambda x:x[1], reverse=True)\n",
    "    \n",
    "    for j in range(0,len(y_test_prob)):\n",
    "        approval_analysis.append([classifier_name[i],y_test_prob[j][1],len(y_test_prob)-j,sum(row[0] for row in y_test_prob[j:len(y_test_prob)])/(len(y_test_prob)-j)])\n",
    "\n",
    "    approval_analysis_tot.append(approval_analysis)"
   ]
  },
  {
   "cell_type": "code",
   "execution_count": 29,
   "metadata": {},
   "outputs": [
    {
     "data": {
      "image/png": "[encoded data removed]",
      "text/plain": [
       "<Figure size 1440x360 with 4 Axes>"
      ]
     },
     "metadata": {},
     "output_type": "display_data"
    }
   ],
   "source": [
    "colors = ['red', 'blue', 'green','purple']\n",
    "\n",
    "risk_level=0.05\n",
    "cutoff_analysis=[]\n",
    "\n",
    "classifiers = [tree_classificator, logreg, rf, deep]\n",
    "classifier_name = ['Decision Tree', 'Logistic Regression','Random Forest','Deep Learning']\n",
    "\n",
    "plt.figure(figsize=(20,5))\n",
    "\n",
    "for i in range(0, len(classifiers)):\n",
    "    classifier = classifiers[i]\n",
    "    \n",
    "    cutoff_analysis.append([row for row in approval_analysis_tot[i] if (row[3]<=risk_level)][0])\n",
    "\n",
    "    if i == 3:\n",
    "        x_test = inputs_scaled\n",
    "    else:\n",
    "        x_test = inputs\n",
    "        \n",
    "    fpr, tpr, thresholds = roc_curve(y_test, classifier.predict_proba(x_test)[:,1])     \n",
    "    roc_auc = auc(fpr, tpr)\n",
    "    \n",
    "    y_test_prob=list(zip(y_test,classifier.predict_proba(x_test)[:,1]))\n",
    "\n",
    "    y_test_prob_goods=[i for i in y_test_prob if (i[0]==0)]\n",
    "    y_test_prob_goods = random.sample(y_test_prob_goods,2489)\n",
    "    y_test_prob_goods=np.array(y_test_prob_goods)\n",
    "    y_test_prob_bads=[i for i in y_test_prob if (i[0]==1)]\n",
    "    y_test_prob_bads=np.array(y_test_prob_bads)\n",
    "    \n",
    "    plt.subplot2grid((1, 4), (0, i), colspan=1)\n",
    "    \n",
    "    n_bins = 50\n",
    "\n",
    "    x = y_test_prob_goods[:,1]\n",
    "    y = y_test_prob_bads[:,1]\n",
    "\n",
    "    plt.title(classifier_name[i],fontsize=18)\n",
    "    plt.xlabel(\"Probability(Class=Default)\")\n",
    "    plt.hist(x, bins=n_bins,alpha=0.8)\n",
    "    plt.hist(y, bins=n_bins,color=\"red\",alpha=0.4)\n",
    "    plt.ylim(0,600)\n",
    "    plt.xlim(0,1)\n",
    "    plt.axvline(x=cutoff_analysis[i][1], ymin=0, linewidth=1, color='black')\n",
    "    plt.legend(['Cut-off','Goods','Bads'])"
   ]
  },
  {
   "cell_type": "code",
   "execution_count": 30,
   "metadata": {},
   "outputs": [
    {
     "data": {
      "text/html": [
       "<style  type=\"text/css\" >\n",
       "</style>  \n",
       "<table id=\"T_d0adf430_12f2_11e9_a48a_5cea1d2c9d42\" > \n",
       "<thead>    <tr> \n",
       "        <th class=\"blank level0\" ></th> \n",
       "        <th class=\"col_heading level0 col0\" >Classifier</th> \n",
       "        <th class=\"col_heading level0 col1\" >pd_cutoff</th> \n",
       "        <th class=\"col_heading level0 col2\" >Applications</th> \n",
       "        <th class=\"col_heading level0 col3\" >Denied</th> \n",
       "        <th class=\"col_heading level0 col4\" >Approved</th> \n",
       "        <th class=\"col_heading level0 col5\" >Expected Bads</th> \n",
       "        <th class=\"col_heading level0 col6\" >Risk Rate</th> \n",
       "    </tr></thead> \n",
       "<tbody>    <tr> \n",
       "        <th id=\"T_d0adf430_12f2_11e9_a48a_5cea1d2c9d42level0_row0\" class=\"row_heading level0 row0\" >0</th> \n",
       "        <td id=\"T_d0adf430_12f2_11e9_a48a_5cea1d2c9d42row0_col0\" class=\"data row0 col0\" >Decision Tree</td> \n",
       "        <td id=\"T_d0adf430_12f2_11e9_a48a_5cea1d2c9d42row0_col1\" class=\"data row0 col1\" >12.55%</td> \n",
       "        <td id=\"T_d0adf430_12f2_11e9_a48a_5cea1d2c9d42row0_col2\" class=\"data row0 col2\" >24013</td> \n",
       "        <td id=\"T_d0adf430_12f2_11e9_a48a_5cea1d2c9d42row0_col3\" class=\"data row0 col3\" >6564</td> \n",
       "        <td id=\"T_d0adf430_12f2_11e9_a48a_5cea1d2c9d42row0_col4\" class=\"data row0 col4\" >17449</td> \n",
       "        <td id=\"T_d0adf430_12f2_11e9_a48a_5cea1d2c9d42row0_col5\" class=\"data row0 col5\" >872</td> \n",
       "        <td id=\"T_d0adf430_12f2_11e9_a48a_5cea1d2c9d42row0_col6\" class=\"data row0 col6\" >5.00%</td> \n",
       "    </tr>    <tr> \n",
       "        <th id=\"T_d0adf430_12f2_11e9_a48a_5cea1d2c9d42level0_row1\" class=\"row_heading level0 row1\" >1</th> \n",
       "        <td id=\"T_d0adf430_12f2_11e9_a48a_5cea1d2c9d42row1_col0\" class=\"data row1 col0\" >Logistic Regression</td> \n",
       "        <td id=\"T_d0adf430_12f2_11e9_a48a_5cea1d2c9d42row1_col1\" class=\"data row1 col1\" >12.74%</td> \n",
       "        <td id=\"T_d0adf430_12f2_11e9_a48a_5cea1d2c9d42row1_col2\" class=\"data row1 col2\" >24013</td> \n",
       "        <td id=\"T_d0adf430_12f2_11e9_a48a_5cea1d2c9d42row1_col3\" class=\"data row1 col3\" >5885</td> \n",
       "        <td id=\"T_d0adf430_12f2_11e9_a48a_5cea1d2c9d42row1_col4\" class=\"data row1 col4\" >18128</td> \n",
       "        <td id=\"T_d0adf430_12f2_11e9_a48a_5cea1d2c9d42row1_col5\" class=\"data row1 col5\" >906</td> \n",
       "        <td id=\"T_d0adf430_12f2_11e9_a48a_5cea1d2c9d42row1_col6\" class=\"data row1 col6\" >5.00%</td> \n",
       "    </tr>    <tr> \n",
       "        <th id=\"T_d0adf430_12f2_11e9_a48a_5cea1d2c9d42level0_row2\" class=\"row_heading level0 row2\" >2</th> \n",
       "        <td id=\"T_d0adf430_12f2_11e9_a48a_5cea1d2c9d42row2_col0\" class=\"data row2 col0\" >Random Forest</td> \n",
       "        <td id=\"T_d0adf430_12f2_11e9_a48a_5cea1d2c9d42row2_col1\" class=\"data row2 col1\" >15.41%</td> \n",
       "        <td id=\"T_d0adf430_12f2_11e9_a48a_5cea1d2c9d42row2_col2\" class=\"data row2 col2\" >24013</td> \n",
       "        <td id=\"T_d0adf430_12f2_11e9_a48a_5cea1d2c9d42row2_col3\" class=\"data row2 col3\" >4193</td> \n",
       "        <td id=\"T_d0adf430_12f2_11e9_a48a_5cea1d2c9d42row2_col4\" class=\"data row2 col4\" >19820</td> \n",
       "        <td id=\"T_d0adf430_12f2_11e9_a48a_5cea1d2c9d42row2_col5\" class=\"data row2 col5\" >991</td> \n",
       "        <td id=\"T_d0adf430_12f2_11e9_a48a_5cea1d2c9d42row2_col6\" class=\"data row2 col6\" >5.00%</td> \n",
       "    </tr>    <tr> \n",
       "        <th id=\"T_d0adf430_12f2_11e9_a48a_5cea1d2c9d42level0_row3\" class=\"row_heading level0 row3\" >3</th> \n",
       "        <td id=\"T_d0adf430_12f2_11e9_a48a_5cea1d2c9d42row3_col0\" class=\"data row3 col0\" >Deep Learning</td> \n",
       "        <td id=\"T_d0adf430_12f2_11e9_a48a_5cea1d2c9d42row3_col1\" class=\"data row3 col1\" >18.04%</td> \n",
       "        <td id=\"T_d0adf430_12f2_11e9_a48a_5cea1d2c9d42row3_col2\" class=\"data row3 col2\" >24013</td> \n",
       "        <td id=\"T_d0adf430_12f2_11e9_a48a_5cea1d2c9d42row3_col3\" class=\"data row3 col3\" >4145</td> \n",
       "        <td id=\"T_d0adf430_12f2_11e9_a48a_5cea1d2c9d42row3_col4\" class=\"data row3 col4\" >19868</td> \n",
       "        <td id=\"T_d0adf430_12f2_11e9_a48a_5cea1d2c9d42row3_col5\" class=\"data row3 col5\" >993</td> \n",
       "        <td id=\"T_d0adf430_12f2_11e9_a48a_5cea1d2c9d42row3_col6\" class=\"data row3 col6\" >5.00%</td> \n",
       "    </tr></tbody> \n",
       "</table> "
      ],
      "text/plain": [
       "<pandas.io.formats.style.Styler at 0x2d271e50940>"
      ]
     },
     "execution_count": 30,
     "metadata": {},
     "output_type": "execute_result"
    }
   ],
   "source": [
    "output=pd.DataFrame(cutoff_analysis)\n",
    "output.columns=['Classifier','pd_cutoff',\"Approved\",\"Risk Rate\"]\n",
    "output[\"Denied\"]=len(inputs)-output[\"Approved\"]\n",
    "output[\"Applications\"]=len(inputs)\n",
    "output[\"Expected Bads\"]=output[\"Approved\"]*risk_level\n",
    "\n",
    "output = output[['Classifier','pd_cutoff','Applications','Denied','Approved','Expected Bads','Risk Rate']]\n",
    "\n",
    "output=output.style.format({\n",
    "    'pd_cutoff': '{:,.2%}'.format,\n",
    "    'Risk Rate' : '{:,.2%}'.format,\n",
    "    'Expected Bads': '{:,.0f}'.format\n",
    "})\n",
    "\n",
    "output"
   ]
  },
  {
   "cell_type": "markdown",
   "metadata": {},
   "source": [
    "# Testing Flask Code"
   ]
  },
  {
   "cell_type": "code",
   "execution_count": 31,
   "metadata": {},
   "outputs": [],
   "source": [
    "import pickle\n",
    "inputs = [[50000, 15000, 20, 20000, 50, 10, 7, 1, 1, 1]]"
   ]
  },
  {
   "cell_type": "code",
   "execution_count": 32,
   "metadata": {},
   "outputs": [
    {
     "data": {
      "text/plain": [
       "[{'Model': 'Decision Tree',\n",
       "  'Pred': 'Approved',\n",
       "  'Prob': '5.63%',\n",
       "  'Cutoff': '12.55%'},\n",
       " {'Model': 'Logistic Regression',\n",
       "  'Pred': 'Approved',\n",
       "  'Prob': '6.59%',\n",
       "  'Cutoff': '12.74%'},\n",
       " {'Model': 'Random Forest',\n",
       "  'Pred': 'Denied',\n",
       "  'Prob': '16.17%',\n",
       "  'Cutoff': '15.06%'},\n",
       " {'Model': 'Neural Network',\n",
       "  'Pred': 'Denied',\n",
       "  'Prob': '27.23%',\n",
       "  'Cutoff': '16.49%'}]"
      ]
     },
     "execution_count": 32,
     "metadata": {},
     "output_type": "execute_result"
    }
   ],
   "source": [
    "model_files = ['models/tree.pkl', 'models/logreg.pkl', 'models/rf.pkl', 'models/neural.pkl']\n",
    "model_names = ['Decision Tree', 'Logistic Regression', 'Random Forest', 'Neural Network']\n",
    "model_cutoff = [0.1255017393631255, 0.1273889457717706, 0.15061733603485394, 0.1648877]\n",
    "outputs = []\n",
    "\n",
    "for i in range(0, len(model_names)):\n",
    "    pkl_file = open(model_files[i], 'rb')\n",
    "    model = pickle.load(pkl_file)\n",
    "    if model_names[i] == 'Neural Network':\n",
    "        scaler = pickle.load(open('models/XScaler.pkl', 'rb'))\n",
    "        inputs_scaled = scaler.transform(inputs)\n",
    "#         pred = model.predict_classes(inputs_scaled)[0]\n",
    "        prob = model.predict_proba(inputs_scaled)[:,1][0]\n",
    "    else:\n",
    "#         pred = model.predict(inputs)[0],\n",
    "        prob = model.predict_proba(inputs)[:,1][0]\n",
    "    \n",
    "    if prob < model_cutoff[i]:\n",
    "        pred = \"Approved\"\n",
    "    else:\n",
    "        pred = \"Denied\"\n",
    "                        \n",
    "    outputs.append({\n",
    "        'Model': model_names[i],\n",
    "        'Pred' : pred,\n",
    "        'Prob' : \"{:.2%}\".format(prob),\n",
    "        'Cutoff' : \"{:.2%}\".format(model_cutoff[i])\n",
    "    })\n",
    "    \n",
    "outputs"
   ]
  },
  {
   "cell_type": "code",
   "execution_count": null,
   "metadata": {},
   "outputs": [],
   "source": []
  }
 ],
 "metadata": {
  "kernelspec": {
   "display_name": "Python 3",
   "language": "python",
   "name": "python3"
  },
  "language_info": {
   "codemirror_mode": {
    "name": "ipython",
    "version": 3
   },
   "file_extension": ".py",
   "mimetype": "text/x-python",
   "name": "python",
   "nbconvert_exporter": "python",
   "pygments_lexer": "ipython3",
   "version": "3.6.5"
  }
 },
 "nbformat": 4,
 "nbformat_minor": 2
}
